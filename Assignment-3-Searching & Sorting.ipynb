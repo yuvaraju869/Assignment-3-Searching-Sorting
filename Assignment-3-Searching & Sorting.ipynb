{
 "cells": [
  {
   "cell_type": "code",
   "execution_count": null,
   "id": "e41419cd",
   "metadata": {},
   "outputs": [],
   "source": [
    "# 1.Implement Binary Search"
   ]
  },
  {
   "cell_type": "code",
   "execution_count": 6,
   "id": "21bf302f",
   "metadata": {},
   "outputs": [
    {
     "name": "stdout",
     "output_type": "stream",
     "text": [
      "The item is found at index 3\n"
     ]
    }
   ],
   "source": [
    "def binary_search(list, item):\n",
    "    low = 0\n",
    "    high = len(list) - 1\n",
    "    mid = 0\n",
    "\n",
    "    while low <= high:\n",
    "        mid = (low + high) // 2\n",
    "\n",
    "        if list[mid] == item:\n",
    "            return mid\n",
    "        elif list[mid] < item:\n",
    "            low = mid + 1\n",
    "        else:\n",
    "            high = mid - 1\n",
    "\n",
    "    return -1\n",
    "# Here is an example of how to use the binary search function:\n",
    "list = [1, 3, 5, 7, 9]\n",
    "item = 7\n",
    "\n",
    "result = binary_search(list, item)\n",
    "\n",
    "if result != -1:\n",
    "    print(\"The item is found at index\", result)\n",
    "else:\n",
    "    print(\"The item is not found\")"
   ]
  },
  {
   "cell_type": "code",
   "execution_count": null,
   "id": "d87b3c05",
   "metadata": {},
   "outputs": [],
   "source": [
    "# 2.Implement Merge Sort"
   ]
  },
  {
   "cell_type": "code",
   "execution_count": 17,
   "id": "245d02f0",
   "metadata": {},
   "outputs": [
    {
     "name": "stdout",
     "output_type": "stream",
     "text": [
      "[1, 2, 3, 4, 5, 6]\n"
     ]
    }
   ],
   "source": [
    "def merge_sort(list):\n",
    "    if len(list) <= 1:\n",
    "        return list\n",
    "\n",
    "    mid = len(list) // 2\n",
    "    left = merge_sort(list[:mid])\n",
    "    right = merge_sort(list[mid:])\n",
    "\n",
    "    return merge(left, right)\n",
    "\n",
    "def merge(left, right):\n",
    "    result = []\n",
    "    i = 0\n",
    "    j = 0\n",
    "\n",
    "    while i < len(left) and j < len(right):\n",
    "        if left[i] <= right[j]:\n",
    "            result.append(left[i])\n",
    "            i += 1\n",
    "        else:\n",
    "            result.append(right[j])\n",
    "            j += 1\n",
    "\n",
    "    result += left[i:]\n",
    "    result += right[j:]\n",
    "\n",
    "    return result\n",
    "\n",
    "list = [1, 3, 5, 2, 4, 6]\n",
    "\n",
    "sorted_list = merge_sort(list)\n",
    "\n",
    "print(sorted_list)"
   ]
  },
  {
   "cell_type": "code",
   "execution_count": null,
   "id": "4cf33855",
   "metadata": {},
   "outputs": [],
   "source": [
    "# 3.Implement Quick Sort"
   ]
  },
  {
   "cell_type": "code",
   "execution_count": 15,
   "id": "233c3d9e",
   "metadata": {},
   "outputs": [
    {
     "name": "stdout",
     "output_type": "stream",
     "text": [
      "Unsorted Array\n",
      "[1, 7, 4, 1, 10, 9, -2]\n",
      "Sorted Array in Ascending Order:\n",
      "[-2, 1, 1, 4, 7, 9, 10]\n"
     ]
    }
   ],
   "source": [
    "def partition(array, low, high):\n",
    " \n",
    "    # choose the rightmost element as pivot\n",
    "    pivot = array[high]\n",
    " \n",
    "    # pointer for greater element\n",
    "    i = low - 1\n",
    " \n",
    "    # traverse through all elements\n",
    "    # compare each element with pivot\n",
    "    for j in range(low, high):\n",
    "        if array[j] <= pivot:\n",
    " \n",
    "            # If element smaller than pivot is found\n",
    "            # swap it with the greater element pointed by i\n",
    "            i = i + 1\n",
    " \n",
    "            # Swapping element at i with element at j\n",
    "            (array[i], array[j]) = (array[j], array[i])\n",
    " \n",
    "    # Swap the pivot element with the greater element specified by i\n",
    "    (array[i + 1], array[high]) = (array[high], array[i + 1])\n",
    " \n",
    "    # Return the position from where partition is done\n",
    "    return i + 1\n",
    "data = [1, 7, 4, 1, 10, 9, -2]\n",
    "print(\"Unsorted Array\")\n",
    "print(data)\n",
    " \n",
    "size = len(data)\n",
    " \n",
    "quickSort(data, 0, size - 1)\n",
    " \n",
    "print('Sorted Array in Ascending Order:')\n",
    "print(data)"
   ]
  },
  {
   "cell_type": "code",
   "execution_count": null,
   "id": "412de7da",
   "metadata": {},
   "outputs": [],
   "source": [
    "# 4.Implement Insertion Sort"
   ]
  },
  {
   "cell_type": "code",
   "execution_count": 17,
   "id": "52e3f6d7",
   "metadata": {},
   "outputs": [
    {
     "name": "stdout",
     "output_type": "stream",
     "text": [
      "[1, 2, 3, 4, 5, 6]\n"
     ]
    }
   ],
   "source": [
    "def insertion_sort(list):\n",
    "    for i in range(1, len(list)):\n",
    "        item = list[i]\n",
    "        j = i - 1\n",
    "\n",
    "        while j >= 0 and list[j] > item:\n",
    "            list[j + 1] = list[j]\n",
    "            j -= 1\n",
    "\n",
    "        list[j + 1] = item\n",
    "\n",
    "\n",
    "list = [1, 3, 5, 2, 4, 6]\n",
    "\n",
    "insertion_sort(list)\n",
    "\n",
    "print(list)"
   ]
  },
  {
   "cell_type": "code",
   "execution_count": null,
   "id": "78843a11",
   "metadata": {},
   "outputs": [],
   "source": [
    "# 5.Write a program to sort list of strings (similar to that of dictionary)"
   ]
  },
  {
   "cell_type": "code",
   "execution_count": 19,
   "id": "6360cace",
   "metadata": {},
   "outputs": [
    {
     "name": "stdout",
     "output_type": "stream",
     "text": [
      "['Apple', 'banana', 'Cat', 'CHERRY', 'Dog']\n"
     ]
    }
   ],
   "source": [
    "def sort_strings(strings):\n",
    "  \"\"\"Sorts a list of strings in alphabetical order, ignoring case.\n",
    "\n",
    "  Args:\n",
    "    strings: A list of strings.\n",
    "\n",
    "  Returns:\n",
    "    A sorted list of strings.\n",
    "  \"\"\"\n",
    "\n",
    "  def key_func(string):\n",
    "    return string.lower()\n",
    "\n",
    "  sorted_strings = sorted(strings, key=key_func)\n",
    "  return sorted_strings\n",
    "\n",
    "\n",
    "strings = [\"Apple\", \"banana\", \"CHERRY\", \"Dog\", \"Cat\"]\n",
    "\n",
    "sorted_strings = sort_strings(strings)\n",
    "\n",
    "print(sorted_strings)"
   ]
  },
  {
   "cell_type": "code",
   "execution_count": null,
   "id": "1db7d3a2",
   "metadata": {},
   "outputs": [],
   "source": []
  }
 ],
 "metadata": {
  "kernelspec": {
   "display_name": "Python 3 (ipykernel)",
   "language": "python",
   "name": "python3"
  },
  "language_info": {
   "codemirror_mode": {
    "name": "ipython",
    "version": 3
   },
   "file_extension": ".py",
   "mimetype": "text/x-python",
   "name": "python",
   "nbconvert_exporter": "python",
   "pygments_lexer": "ipython3",
   "version": "3.11.3"
  }
 },
 "nbformat": 4,
 "nbformat_minor": 5
}
